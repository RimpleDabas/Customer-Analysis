{
    "metadata": {
        "kernelspec": {
            "name": "python3",
            "display_name": "Python 3",
            "language": "python"
        },
        "language_info": {
            "name": "python",
            "version": "3.8.10",
            "mimetype": "text/x-python",
            "codemirror_mode": {
                "name": "ipython",
                "version": 3
            },
            "pygments_lexer": "ipython3",
            "nbconvert_exporter": "python",
            "file_extension": ".py"
        }
    },
    "nbformat_minor": 2,
    "nbformat": 4,
    "cells": [
        {
            "cell_type": "markdown",
            "source": [
                "Import Libraries"
            ],
            "metadata": {
                "azdata_cell_guid": "8b20f7bf-39cd-47e4-951c-9109f7b9a6b4"
            },
            "attachments": {}
        },
        {
            "cell_type": "code",
            "source": [
                "import pandas as pd\r\n",
                "import sqlalchemy \r\n",
                "from sqlalchemy.orm import Session\r\n",
                "from sqlalchemy import create_engine\r\n",
                "import pyodbc\r\n",
                "import matplotlib.pyplot as plt\r\n",
                "import matplotlib.gridspec as gridspec\r\n",
                "%matplotlib inline\r\n",
                "import seaborn as sns"
            ],
            "metadata": {
                "language": "python",
                "azdata_cell_guid": "8c41a381-0677-42a0-b5f0-d4eb86c63eb7",
                "tags": []
            },
            "outputs": [],
            "execution_count": 87
        },
        {
            "cell_type": "markdown",
            "source": [
                "## using SQLalchemy\r\n",
                "\r\n",
                ""
            ],
            "metadata": {
                "azdata_cell_guid": "aa5d660a-076e-40b2-b0c8-9c01cc61d2b5"
            },
            "attachments": {}
        },
        {
            "cell_type": "code",
            "source": [
                "# Using sqlalchemy\r\n",
                "server = 'DABAS\\SQLEXPRESS'\r\n",
                "database = 'ChurnDataset'\r\n",
                "driver = 'SQL Server'\r\n",
                "connection = f\"mssql://@{server}/{database}?driver={'SQL Server'}\"\r\n",
                "engine = create_engine(connection)\r\n",
                "connect = engine.connect()\r\n",
                ""
            ],
            "metadata": {
                "language": "python",
                "azdata_cell_guid": "5b527439-74e0-4153-b92e-3cce670bc0cf"
            },
            "outputs": [],
            "execution_count": 3
        },
        {
            "cell_type": "code",
            "source": [
                "#read data and covert to df\r\n",
                "df = pd.read_sql(\r\n",
                "      'SELECT * FROM Data',\r\n",
                "  engine,\r\n",
                "  index_col='customer_id')\r\n",
                "df"
            ],
            "metadata": {
                "language": "python",
                "azdata_cell_guid": "e0c17028-1f0e-4e08-9990-610874e840ad"
            },
            "outputs": [
                {
                    "data": {
                        "text/plain": "             credit_score  country  gender  age  tenure        balance  \\\ncustomer_id                                                              \n15634602              619   France  Female   42       2       0.000000   \n15647311              608    Spain  Female   41       1   83807.859375   \n15619304              502   France  Female   42       8  159660.796875   \n15701354              699   France  Female   39       1       0.000000   \n15737888              850    Spain  Female   43       2  125510.820312   \n...                   ...      ...     ...  ...     ...            ...   \n15606229              771   France    Male   39       5       0.000000   \n15569892              516   France    Male   35      10   57369.609375   \n15584532              709   France  Female   36       7       0.000000   \n15682355              772  Germany    Male   42       3   75075.312500   \n15628319              792   France  Female   28       4  130142.789062   \n\n             products_number  credit_card  active_member  estimated_salary  \\\ncustomer_id                                                                  \n15634602                   1         True           True     101348.882812   \n15647311                   1        False           True     112542.578125   \n15619304                   3         True          False     113931.570312   \n15701354                   2        False          False      93826.632812   \n15737888                   1         True           True      79084.101562   \n...                      ...          ...            ...               ...   \n15606229                   2         True          False      96270.640625   \n15569892                   1         True           True     101699.773438   \n15584532                   1        False           True      42085.578125   \n15682355                   2         True          False      92888.523438   \n15628319                   1         True          False      38190.781250   \n\n             churn  \ncustomer_id         \n15634602      True  \n15647311     False  \n15619304      True  \n15701354     False  \n15737888     False  \n...            ...  \n15606229     False  \n15569892     False  \n15584532      True  \n15682355      True  \n15628319     False  \n\n[10000 rows x 11 columns]",
                        "text/html": "<div>\n<style scoped>\n    .dataframe tbody tr th:only-of-type {\n        vertical-align: middle;\n    }\n\n    .dataframe tbody tr th {\n        vertical-align: top;\n    }\n\n    .dataframe thead th {\n        text-align: right;\n    }\n</style>\n<table border=\"1\" class=\"dataframe\">\n  <thead>\n    <tr style=\"text-align: right;\">\n      <th></th>\n      <th>credit_score</th>\n      <th>country</th>\n      <th>gender</th>\n      <th>age</th>\n      <th>tenure</th>\n      <th>balance</th>\n      <th>products_number</th>\n      <th>credit_card</th>\n      <th>active_member</th>\n      <th>estimated_salary</th>\n      <th>churn</th>\n    </tr>\n    <tr>\n      <th>customer_id</th>\n      <th></th>\n      <th></th>\n      <th></th>\n      <th></th>\n      <th></th>\n      <th></th>\n      <th></th>\n      <th></th>\n      <th></th>\n      <th></th>\n      <th></th>\n    </tr>\n  </thead>\n  <tbody>\n    <tr>\n      <th>15634602</th>\n      <td>619</td>\n      <td>France</td>\n      <td>Female</td>\n      <td>42</td>\n      <td>2</td>\n      <td>0.000000</td>\n      <td>1</td>\n      <td>True</td>\n      <td>True</td>\n      <td>101348.882812</td>\n      <td>True</td>\n    </tr>\n    <tr>\n      <th>15647311</th>\n      <td>608</td>\n      <td>Spain</td>\n      <td>Female</td>\n      <td>41</td>\n      <td>1</td>\n      <td>83807.859375</td>\n      <td>1</td>\n      <td>False</td>\n      <td>True</td>\n      <td>112542.578125</td>\n      <td>False</td>\n    </tr>\n    <tr>\n      <th>15619304</th>\n      <td>502</td>\n      <td>France</td>\n      <td>Female</td>\n      <td>42</td>\n      <td>8</td>\n      <td>159660.796875</td>\n      <td>3</td>\n      <td>True</td>\n      <td>False</td>\n      <td>113931.570312</td>\n      <td>True</td>\n    </tr>\n    <tr>\n      <th>15701354</th>\n      <td>699</td>\n      <td>France</td>\n      <td>Female</td>\n      <td>39</td>\n      <td>1</td>\n      <td>0.000000</td>\n      <td>2</td>\n      <td>False</td>\n      <td>False</td>\n      <td>93826.632812</td>\n      <td>False</td>\n    </tr>\n    <tr>\n      <th>15737888</th>\n      <td>850</td>\n      <td>Spain</td>\n      <td>Female</td>\n      <td>43</td>\n      <td>2</td>\n      <td>125510.820312</td>\n      <td>1</td>\n      <td>True</td>\n      <td>True</td>\n      <td>79084.101562</td>\n      <td>False</td>\n    </tr>\n    <tr>\n      <th>...</th>\n      <td>...</td>\n      <td>...</td>\n      <td>...</td>\n      <td>...</td>\n      <td>...</td>\n      <td>...</td>\n      <td>...</td>\n      <td>...</td>\n      <td>...</td>\n      <td>...</td>\n      <td>...</td>\n    </tr>\n    <tr>\n      <th>15606229</th>\n      <td>771</td>\n      <td>France</td>\n      <td>Male</td>\n      <td>39</td>\n      <td>5</td>\n      <td>0.000000</td>\n      <td>2</td>\n      <td>True</td>\n      <td>False</td>\n      <td>96270.640625</td>\n      <td>False</td>\n    </tr>\n    <tr>\n      <th>15569892</th>\n      <td>516</td>\n      <td>France</td>\n      <td>Male</td>\n      <td>35</td>\n      <td>10</td>\n      <td>57369.609375</td>\n      <td>1</td>\n      <td>True</td>\n      <td>True</td>\n      <td>101699.773438</td>\n      <td>False</td>\n    </tr>\n    <tr>\n      <th>15584532</th>\n      <td>709</td>\n      <td>France</td>\n      <td>Female</td>\n      <td>36</td>\n      <td>7</td>\n      <td>0.000000</td>\n      <td>1</td>\n      <td>False</td>\n      <td>True</td>\n      <td>42085.578125</td>\n      <td>True</td>\n    </tr>\n    <tr>\n      <th>15682355</th>\n      <td>772</td>\n      <td>Germany</td>\n      <td>Male</td>\n      <td>42</td>\n      <td>3</td>\n      <td>75075.312500</td>\n      <td>2</td>\n      <td>True</td>\n      <td>False</td>\n      <td>92888.523438</td>\n      <td>True</td>\n    </tr>\n    <tr>\n      <th>15628319</th>\n      <td>792</td>\n      <td>France</td>\n      <td>Female</td>\n      <td>28</td>\n      <td>4</td>\n      <td>130142.789062</td>\n      <td>1</td>\n      <td>True</td>\n      <td>False</td>\n      <td>38190.781250</td>\n      <td>False</td>\n    </tr>\n  </tbody>\n</table>\n<p>10000 rows × 11 columns</p>\n</div>"
                    },
                    "metadata": {},
                    "execution_count": 4,
                    "output_type": "execute_result"
                }
            ],
            "execution_count": 4
        },
        {
            "cell_type": "code",
            "source": [
                "## Query specific results\r\n",
                "df_country = pd.read_sql(\r\n",
                "      '''select country,count(*) as TOTAL_CUSTOMERS\r\n",
                "from data\r\n",
                "group by country\r\n",
                "ORDER BY TOTAl_CUSTOMERS DESC''',\r\n",
                "  engine)\r\n",
                "df_country\r\n",
                "\r\n",
                ""
            ],
            "metadata": {
                "azdata_cell_guid": "a054640e-7ba3-4f49-a453-75bfd52ed250",
                "language": "python"
            },
            "outputs": [
                {
                    "data": {
                        "text/plain": "   country  TOTAL_CUSTOMERS\n0   France             5014\n1  Germany             2509\n2    Spain             2477",
                        "text/html": "<div>\n<style scoped>\n    .dataframe tbody tr th:only-of-type {\n        vertical-align: middle;\n    }\n\n    .dataframe tbody tr th {\n        vertical-align: top;\n    }\n\n    .dataframe thead th {\n        text-align: right;\n    }\n</style>\n<table border=\"1\" class=\"dataframe\">\n  <thead>\n    <tr style=\"text-align: right;\">\n      <th></th>\n      <th>country</th>\n      <th>TOTAL_CUSTOMERS</th>\n    </tr>\n  </thead>\n  <tbody>\n    <tr>\n      <th>0</th>\n      <td>France</td>\n      <td>5014</td>\n    </tr>\n    <tr>\n      <th>1</th>\n      <td>Germany</td>\n      <td>2509</td>\n    </tr>\n    <tr>\n      <th>2</th>\n      <td>Spain</td>\n      <td>2477</td>\n    </tr>\n  </tbody>\n</table>\n</div>"
                    },
                    "metadata": {},
                    "execution_count": 5,
                    "output_type": "execute_result"
                }
            ],
            "execution_count": 5
        },
        {
            "cell_type": "markdown",
            "source": [
                "\n",
                "## using pyodbc\n",
                ""
            ],
            "metadata": {
                "azdata_cell_guid": "ce5a3460-6a24-4cce-9c76-670b17c8eb34"
            },
            "attachments": {}
        },
        {
            "cell_type": "code",
            "source": [
                "\r\n",
                "connection = pyodbc.connect('Trusted_Connection=yes', \r\n",
                "                     driver = '{ODBC Driver 17 for SQL Server}',\r\n",
                "                     server = 'DABAS\\SQLEXPRESS', \r\n",
                "                     database = 'ChurnDataset')\r\n",
                ""
            ],
            "metadata": {
                "azdata_cell_guid": "3b0bd6be-5c92-4d50-8ac0-f06a7605d2bd",
                "language": "python"
            },
            "outputs": [],
            "execution_count": 6
        },
        {
            "cell_type": "code",
            "source": [
                "# get column names and type\r\n",
                "\r\n",
                "query= \"SELECT * FROM Data\"\r\n",
                "cursor = connection.cursor()\r\n",
                "cursor.execute(query)\r\n",
                "column_names = [desc[0] for desc in cursor.description]\r\n",
                "column_types = [desc[1] for desc in cursor.description]\r\n",
                "print(column_names)\r\n",
                "print(column_types)\r\n",
                "\r\n",
                ""
            ],
            "metadata": {
                "language": "python",
                "azdata_cell_guid": "28148064-5e14-4d56-8b28-b3375bbcd29b"
            },
            "outputs": [
                {
                    "name": "stdout",
                    "text": "['customer_id', 'credit_score', 'country', 'gender', 'age', 'tenure', 'balance', 'products_number', 'credit_card', 'active_member', 'estimated_salary', 'churn']\n[<class 'int'>, <class 'int'>, <class 'str'>, <class 'str'>, <class 'int'>, <class 'int'>, <class 'float'>, <class 'int'>, <class 'bool'>, <class 'bool'>, <class 'float'>, <class 'bool'>]\n",
                    "output_type": "stream"
                }
            ],
            "execution_count": 7
        },
        {
            "cell_type": "code",
            "source": [
                "#combine these\r\n",
                "for each in cursor.description:\r\n",
                "    print(each[0:2])"
            ],
            "metadata": {
                "language": "python",
                "azdata_cell_guid": "38564e0e-8b6a-46c2-9a13-7ca1cf6351b4"
            },
            "outputs": [
                {
                    "name": "stdout",
                    "text": "('customer_id', <class 'int'>)\n('credit_score', <class 'int'>)\n('country', <class 'str'>)\n('gender', <class 'str'>)\n('age', <class 'int'>)\n('tenure', <class 'int'>)\n('balance', <class 'float'>)\n('products_number', <class 'int'>)\n('credit_card', <class 'bool'>)\n('active_member', <class 'bool'>)\n('estimated_salary', <class 'float'>)\n('churn', <class 'bool'>)\n",
                    "output_type": "stream"
                }
            ],
            "execution_count": 8
        },
        {
            "cell_type": "code",
            "source": [
                "#sinmpler and easier way of doing this\r\n",
                "df_2 = pd.read_sql( \"SELECT * FROM Data\",connection)\r\n",
                "df_2.dtypes"
            ],
            "metadata": {
                "azdata_cell_guid": "9e01edac-bc60-4818-9f11-0bdc2aaf7e75",
                "language": "python"
            },
            "outputs": [
                {
                    "name": "stderr",
                    "text": "<ipython-input-10-6f3a47368e2f>:2: UserWarning: pandas only supports SQLAlchemy connectable (engine/connection) or database string URI or sqlite3 DBAPI2 connection. Other DBAPI2 objects are not tested. Please consider using SQLAlchemy.\n  df_2 = pd.read_sql( \"SELECT * FROM Data\",connection)\n",
                    "output_type": "stream"
                },
                {
                    "data": {
                        "text/plain": "customer_id           int64\ncredit_score          int64\ncountry              object\ngender               object\nage                   int64\ntenure                int64\nbalance             float64\nproducts_number       int64\ncredit_card            bool\nactive_member          bool\nestimated_salary    float64\nchurn                  bool\ndtype: object"
                    },
                    "metadata": {},
                    "execution_count": 10,
                    "output_type": "execute_result"
                }
            ],
            "execution_count": 10
        },
        {
            "cell_type": "code",
            "source": [
                "#no of customers countrywise\r\n",
                "\r\n",
                "df_pydoc = pd.read_sql( '''select country,count(*) as TOTAL_CUSTOMERS\r\n",
                "from data\r\n",
                "group by country\r\n",
                "ORDER BY TOTAl_CUSTOMERS DESC''',connection)\r\n",
                "df_pydoc\r\n",
                ""
            ],
            "metadata": {
                "language": "python",
                "azdata_cell_guid": "68d3e00d-55fd-4585-a8bf-41ed6f1a53d2",
                "tags": []
            },
            "outputs": [
                {
                    "name": "stderr",
                    "text": "<ipython-input-11-237cf4df11d4>:3: UserWarning: pandas only supports SQLAlchemy connectable (engine/connection) or database string URI or sqlite3 DBAPI2 connection. Other DBAPI2 objects are not tested. Please consider using SQLAlchemy.\n  df_pydoc = pd.read_sql( '''select country,count(*) as TOTAL_CUSTOMERS\n",
                    "output_type": "stream"
                },
                {
                    "data": {
                        "text/plain": "   country  TOTAL_CUSTOMERS\n0   France             5014\n1  Germany             2509\n2    Spain             2477",
                        "text/html": "<div>\n<style scoped>\n    .dataframe tbody tr th:only-of-type {\n        vertical-align: middle;\n    }\n\n    .dataframe tbody tr th {\n        vertical-align: top;\n    }\n\n    .dataframe thead th {\n        text-align: right;\n    }\n</style>\n<table border=\"1\" class=\"dataframe\">\n  <thead>\n    <tr style=\"text-align: right;\">\n      <th></th>\n      <th>country</th>\n      <th>TOTAL_CUSTOMERS</th>\n    </tr>\n  </thead>\n  <tbody>\n    <tr>\n      <th>0</th>\n      <td>France</td>\n      <td>5014</td>\n    </tr>\n    <tr>\n      <th>1</th>\n      <td>Germany</td>\n      <td>2509</td>\n    </tr>\n    <tr>\n      <th>2</th>\n      <td>Spain</td>\n      <td>2477</td>\n    </tr>\n  </tbody>\n</table>\n</div>"
                    },
                    "metadata": {},
                    "execution_count": 11,
                    "output_type": "execute_result"
                }
            ],
            "execution_count": 11
        },
        {
            "cell_type": "markdown",
            "source": [
                "\r\n",
                "Churn Analysis"
            ],
            "metadata": {
                "azdata_cell_guid": "3bdeb62a-bc25-45f6-afe7-3ff2980d8bc9"
            },
            "attachments": {}
        },
        {
            "cell_type": "code",
            "source": [
                "#customers churned by country\r\n",
                "Churn_df = pd.read_sql(\r\n",
                "    '''SELECT country, \r\n",
                "    COUNT(CASE WHEN churn=1 THEN 1  END) AS Customers\r\n",
                "    FROM Data\r\n",
                "    GROUP BY country''',\r\n",
                "    engine\r\n",
                ")\r\n",
                "Churn_df"
            ],
            "metadata": {
                "language": "python",
                "azdata_cell_guid": "a839e496-215c-4f3f-8f93-26fc3910a5e6",
                "tags": []
            },
            "outputs": [
                {
                    "data": {
                        "text/plain": "   country  Customers\n0  Germany        814\n1   France        810\n2    Spain        413",
                        "text/html": "<div>\n<style scoped>\n    .dataframe tbody tr th:only-of-type {\n        vertical-align: middle;\n    }\n\n    .dataframe tbody tr th {\n        vertical-align: top;\n    }\n\n    .dataframe thead th {\n        text-align: right;\n    }\n</style>\n<table border=\"1\" class=\"dataframe\">\n  <thead>\n    <tr style=\"text-align: right;\">\n      <th></th>\n      <th>country</th>\n      <th>Customers</th>\n    </tr>\n  </thead>\n  <tbody>\n    <tr>\n      <th>0</th>\n      <td>Germany</td>\n      <td>814</td>\n    </tr>\n    <tr>\n      <th>1</th>\n      <td>France</td>\n      <td>810</td>\n    </tr>\n    <tr>\n      <th>2</th>\n      <td>Spain</td>\n      <td>413</td>\n    </tr>\n  </tbody>\n</table>\n</div>"
                    },
                    "metadata": {},
                    "execution_count": 12,
                    "output_type": "execute_result"
                }
            ],
            "execution_count": 12
        },
        {
            "cell_type": "code",
            "source": [
                "#customers churn rate from based on countrires\r\n",
                "Churn_rate_countries_df = pd.read_sql(\r\n",
                "'''SELECT \r\n",
                "    country,\r\n",
                "    COUNT(*) AS total_customers,\r\n",
                "    SUM(CASE WHEN churn=1 THEN 1 ELSE 0 END) AS churned_customers,\r\n",
                "    ROUND(SUM(CASE WHEN churn=1 THEN 1 ELSE 0 END) * 100.0 / COUNT(*),2) AS churn_percentage\r\n",
                "    FROM Data\r\n",
                "    GROUP BY country'''\r\n",
                ",engine\r\n",
                ")\r\n",
                "Churn_rate_countries_df\r\n",
                ""
            ],
            "metadata": {
                "language": "python",
                "azdata_cell_guid": "5bfda189-574d-4d1d-9fc0-dfd36f19c3eb"
            },
            "outputs": [
                {
                    "data": {
                        "text/plain": "   country  total_customers  churned_customers  churn_percentage\n0  Germany             2509                814             32.44\n1   France             5014                810             16.15\n2    Spain             2477                413             16.67",
                        "text/html": "<div>\n<style scoped>\n    .dataframe tbody tr th:only-of-type {\n        vertical-align: middle;\n    }\n\n    .dataframe tbody tr th {\n        vertical-align: top;\n    }\n\n    .dataframe thead th {\n        text-align: right;\n    }\n</style>\n<table border=\"1\" class=\"dataframe\">\n  <thead>\n    <tr style=\"text-align: right;\">\n      <th></th>\n      <th>country</th>\n      <th>total_customers</th>\n      <th>churned_customers</th>\n      <th>churn_percentage</th>\n    </tr>\n  </thead>\n  <tbody>\n    <tr>\n      <th>0</th>\n      <td>Germany</td>\n      <td>2509</td>\n      <td>814</td>\n      <td>32.44</td>\n    </tr>\n    <tr>\n      <th>1</th>\n      <td>France</td>\n      <td>5014</td>\n      <td>810</td>\n      <td>16.15</td>\n    </tr>\n    <tr>\n      <th>2</th>\n      <td>Spain</td>\n      <td>2477</td>\n      <td>413</td>\n      <td>16.67</td>\n    </tr>\n  </tbody>\n</table>\n</div>"
                    },
                    "metadata": {},
                    "execution_count": 13,
                    "output_type": "execute_result"
                }
            ],
            "execution_count": 13
        },
        {
            "cell_type": "code",
            "source": [
                "#churn rate genderwise\r\n",
                "\r\n",
                "Chrun_rate_genderwise = pd.read_sql(\r\n",
                "    '''SELECT \r\n",
                "    gender,\r\n",
                "    COUNT(*) AS total_customers,\r\n",
                "    SUM(CASE WHEN churn=1 THEN 1 ELSE 0 END) AS churned_customers,\r\n",
                "    ROUND(SUM(CASE WHEN churn=1 THEN 1 ELSE 0 END) * 100.0 / COUNT(*),2) AS churn_percentage\r\n",
                "    FROM Data\r\n",
                "    GROUP BY gender''',\r\n",
                "engine);\r\n",
                "Chrun_rate_genderwise\r\n",
                ""
            ],
            "metadata": {
                "language": "python",
                "azdata_cell_guid": "6256856f-d161-4139-8534-0d4548ea299d"
            },
            "outputs": [
                {
                    "data": {
                        "text/plain": "   gender  total_customers  churned_customers  churn_percentage\n0    Male             5457                898             16.46\n1  Female             4543               1139             25.07",
                        "text/html": "<div>\n<style scoped>\n    .dataframe tbody tr th:only-of-type {\n        vertical-align: middle;\n    }\n\n    .dataframe tbody tr th {\n        vertical-align: top;\n    }\n\n    .dataframe thead th {\n        text-align: right;\n    }\n</style>\n<table border=\"1\" class=\"dataframe\">\n  <thead>\n    <tr style=\"text-align: right;\">\n      <th></th>\n      <th>gender</th>\n      <th>total_customers</th>\n      <th>churned_customers</th>\n      <th>churn_percentage</th>\n    </tr>\n  </thead>\n  <tbody>\n    <tr>\n      <th>0</th>\n      <td>Male</td>\n      <td>5457</td>\n      <td>898</td>\n      <td>16.46</td>\n    </tr>\n    <tr>\n      <th>1</th>\n      <td>Female</td>\n      <td>4543</td>\n      <td>1139</td>\n      <td>25.07</td>\n    </tr>\n  </tbody>\n</table>\n</div>"
                    },
                    "metadata": {},
                    "execution_count": 14,
                    "output_type": "execute_result"
                }
            ],
            "execution_count": 14
        },
        {
            "cell_type": "code",
            "source": [
                "Chrun_rate_combined = pd.read_sql(\r\n",
                "    '''SELECT \r\n",
                "    country,\r\n",
                "    gender,\r\n",
                "    COUNT(*) AS total_customers,\r\n",
                "    SUM(CASE WHEN churn=1 THEN 1 ELSE 0 END) AS churned_customers,\r\n",
                "    ROUND(SUM(CASE WHEN churn=1 THEN 1 ELSE 0 END) * 100.0 / COUNT(*),2) AS churn_percentage\r\n",
                "    FROM Data\r\n",
                "    GROUP BY country,gender''',\r\n",
                "engine);\r\n",
                "Chrun_rate_combined"
            ],
            "metadata": {
                "language": "python",
                "azdata_cell_guid": "92faa239-340b-4220-b89e-eb8230ae1d6c"
            },
            "outputs": [
                {
                    "data": {
                        "text/plain": "   country  gender  total_customers  churned_customers  churn_percentage\n0  Germany    Male             1316                366             27.81\n1  Germany  Female             1193                448             37.55\n2    Spain    Male             1388                182             13.11\n3    Spain  Female             1089                231             21.21\n4   France    Male             2753                350             12.71\n5   France  Female             2261                460             20.34",
                        "text/html": "<div>\n<style scoped>\n    .dataframe tbody tr th:only-of-type {\n        vertical-align: middle;\n    }\n\n    .dataframe tbody tr th {\n        vertical-align: top;\n    }\n\n    .dataframe thead th {\n        text-align: right;\n    }\n</style>\n<table border=\"1\" class=\"dataframe\">\n  <thead>\n    <tr style=\"text-align: right;\">\n      <th></th>\n      <th>country</th>\n      <th>gender</th>\n      <th>total_customers</th>\n      <th>churned_customers</th>\n      <th>churn_percentage</th>\n    </tr>\n  </thead>\n  <tbody>\n    <tr>\n      <th>0</th>\n      <td>Germany</td>\n      <td>Male</td>\n      <td>1316</td>\n      <td>366</td>\n      <td>27.81</td>\n    </tr>\n    <tr>\n      <th>1</th>\n      <td>Germany</td>\n      <td>Female</td>\n      <td>1193</td>\n      <td>448</td>\n      <td>37.55</td>\n    </tr>\n    <tr>\n      <th>2</th>\n      <td>Spain</td>\n      <td>Male</td>\n      <td>1388</td>\n      <td>182</td>\n      <td>13.11</td>\n    </tr>\n    <tr>\n      <th>3</th>\n      <td>Spain</td>\n      <td>Female</td>\n      <td>1089</td>\n      <td>231</td>\n      <td>21.21</td>\n    </tr>\n    <tr>\n      <th>4</th>\n      <td>France</td>\n      <td>Male</td>\n      <td>2753</td>\n      <td>350</td>\n      <td>12.71</td>\n    </tr>\n    <tr>\n      <th>5</th>\n      <td>France</td>\n      <td>Female</td>\n      <td>2261</td>\n      <td>460</td>\n      <td>20.34</td>\n    </tr>\n  </tbody>\n</table>\n</div>"
                    },
                    "metadata": {},
                    "execution_count": 15,
                    "output_type": "execute_result"
                }
            ],
            "execution_count": 15
        },
        {
            "cell_type": "code",
            "source": [
                "#adding criterias\r\n",
                "q1 = '''\r\n",
                "WITH Criteria AS\r\n",
                "(\r\n",
                "    SELECT *,\r\n",
                "    CASE \r\n",
                "    WHEN age < 18 THEN '18 and below'\r\n",
                "    WHEN age BETWEEN 18 AND 30 THEN '18-30'\r\n",
                "    WHEN age BETWEEN 31 AND 50 THEN  '31-50'\r\n",
                "    WHEN age BETWEEN 51 AND 70 THEN '51-70'\r\n",
                "    ELSE '> 70'\r\n",
                "    END AS Age_group\r\n",
                "    FROM Data\r\n",
                ")\r\n",
                "SELECT \r\n",
                "    Age_Group,\r\n",
                "    COUNT(*) AS total_customers,\r\n",
                "    SUM(CASE WHEN churn=1 THEN 1 ELSE 0 END) AS churned_customers,\r\n",
                "    ROUND(SUM(CASE WHEN churn=1 THEN 1 ELSE 0 END) * 100.0 / COUNT(*),2) AS churn_percentage\r\n",
                "    FROM Criteria\r\n",
                "    GROUP BY Age_Group\r\n",
                "    ORDER BY churn_percentage DESC\r\n",
                "    '''"
            ],
            "metadata": {
                "azdata_cell_guid": "2953cc94-2544-4b0b-b2d6-f4d11b805819",
                "language": "python"
            },
            "outputs": [],
            "execution_count": 117
        },
        {
            "cell_type": "code",
            "source": [
                "# churn rate by age group\r\n",
                "\r\n",
                "Churn_age_df = pd.read_sql(q1,engine)\r\n",
                "Churn_age_df\r\n",
                ""
            ],
            "metadata": {
                "azdata_cell_guid": "4f4ca482-1280-4fa9-bba1-fe59331a654e",
                "language": "python"
            },
            "outputs": [
                {
                    "data": {
                        "text/plain": "  Age_Group  total_customers  churned_customers  churn_percentage\n0     51-70             1128                552             48.94\n1     31-50             6771               1326             19.58\n2      > 70              133                 11              8.27\n3     18-30             1968                148              7.52",
                        "text/html": "<div>\n<style scoped>\n    .dataframe tbody tr th:only-of-type {\n        vertical-align: middle;\n    }\n\n    .dataframe tbody tr th {\n        vertical-align: top;\n    }\n\n    .dataframe thead th {\n        text-align: right;\n    }\n</style>\n<table border=\"1\" class=\"dataframe\">\n  <thead>\n    <tr style=\"text-align: right;\">\n      <th></th>\n      <th>Age_Group</th>\n      <th>total_customers</th>\n      <th>churned_customers</th>\n      <th>churn_percentage</th>\n    </tr>\n  </thead>\n  <tbody>\n    <tr>\n      <th>0</th>\n      <td>51-70</td>\n      <td>1128</td>\n      <td>552</td>\n      <td>48.94</td>\n    </tr>\n    <tr>\n      <th>1</th>\n      <td>31-50</td>\n      <td>6771</td>\n      <td>1326</td>\n      <td>19.58</td>\n    </tr>\n    <tr>\n      <th>2</th>\n      <td>&gt; 70</td>\n      <td>133</td>\n      <td>11</td>\n      <td>8.27</td>\n    </tr>\n    <tr>\n      <th>3</th>\n      <td>18-30</td>\n      <td>1968</td>\n      <td>148</td>\n      <td>7.52</td>\n    </tr>\n  </tbody>\n</table>\n</div>"
                    },
                    "metadata": {},
                    "execution_count": 118,
                    "output_type": "execute_result"
                }
            ],
            "execution_count": 118
        },
        {
            "cell_type": "code",
            "source": [
                "q2 = '''\r\n",
                "WITH q2 AS\r\n",
                " (\r\n",
                "    SELECT * ,\r\n",
                "    CASE \r\n",
                "    WHEN credit_score >= 820 THEN 'Excellent'\r\n",
                "    WHEN credit_score >= 760 THEN 'Very Good'\r\n",
                "    WHEN credit_score >= 670 THEN 'Good'\r\n",
                "    WHEN credit_score >= 580 THEN 'Fair'\r\n",
                "    ELSE 'Bad'\r\n",
                "    END AS credit_criteria\r\n",
                "    FROM Data\r\n",
                ")\r\n",
                "SELECT \r\n",
                "    Credit_criteria,\r\n",
                "    COUNT(*) AS total_customers,\r\n",
                "    SUM(CASE WHEN churn=1 THEN 1 ELSE 0 END) AS churned_customers,\r\n",
                "    ROUND(SUM(CASE WHEN churn=1 THEN 1 ELSE 0 END) * 100.0 / COUNT(*),2) AS churn_percentage\r\n",
                "    FROM q2\r\n",
                "    GROUP BY Credit_criteria\r\n",
                "    ORDER BY churn_percentage DESC\r\n",
                "'''\r\n",
                "\r\n",
                ""
            ],
            "metadata": {
                "azdata_cell_guid": "202aae1f-b47f-4275-bfca-951046da3f45",
                "language": "python"
            },
            "outputs": [],
            "execution_count": 55
        },
        {
            "cell_type": "code",
            "source": [
                "\r\n",
                "# churn rate by credit card\r\n",
                "Churn_credit_df = pd.read_sql(q2,engine)\r\n",
                "Churn_credit_df\r\n",
                ""
            ],
            "metadata": {
                "azdata_cell_guid": "31c7332a-c8e5-46a3-9037-87e198ebdc16",
                "language": "python"
            },
            "outputs": [
                {
                    "data": {
                        "text/plain": "  Credit_criteria  total_customers  churned_customers  churn_percentage\n0             Bad             2362                520             22.02\n1            Fair             3331                685             20.56\n2       Excellent              439                 88             20.05\n3       Very Good              925                183             19.78\n4            Good             2943                561             19.06",
                        "text/html": "<div>\n<style scoped>\n    .dataframe tbody tr th:only-of-type {\n        vertical-align: middle;\n    }\n\n    .dataframe tbody tr th {\n        vertical-align: top;\n    }\n\n    .dataframe thead th {\n        text-align: right;\n    }\n</style>\n<table border=\"1\" class=\"dataframe\">\n  <thead>\n    <tr style=\"text-align: right;\">\n      <th></th>\n      <th>Credit_criteria</th>\n      <th>total_customers</th>\n      <th>churned_customers</th>\n      <th>churn_percentage</th>\n    </tr>\n  </thead>\n  <tbody>\n    <tr>\n      <th>0</th>\n      <td>Bad</td>\n      <td>2362</td>\n      <td>520</td>\n      <td>22.02</td>\n    </tr>\n    <tr>\n      <th>1</th>\n      <td>Fair</td>\n      <td>3331</td>\n      <td>685</td>\n      <td>20.56</td>\n    </tr>\n    <tr>\n      <th>2</th>\n      <td>Excellent</td>\n      <td>439</td>\n      <td>88</td>\n      <td>20.05</td>\n    </tr>\n    <tr>\n      <th>3</th>\n      <td>Very Good</td>\n      <td>925</td>\n      <td>183</td>\n      <td>19.78</td>\n    </tr>\n    <tr>\n      <th>4</th>\n      <td>Good</td>\n      <td>2943</td>\n      <td>561</td>\n      <td>19.06</td>\n    </tr>\n  </tbody>\n</table>\n</div>"
                    },
                    "metadata": {},
                    "execution_count": 99,
                    "output_type": "execute_result"
                }
            ],
            "execution_count": 99
        },
        {
            "cell_type": "code",
            "source": [
                "# Churn rate by product\r\n",
                "\r\n",
                "q3 = '''\r\n",
                "SELECT \r\n",
                "products_number,\r\n",
                "COUNT(*) AS total_customers,\r\n",
                "SUM(CASE WHEN churn=1 THEN 1 ELSE 0 END) AS churned_customers,\r\n",
                "ROUND(SUM(CASE WHEN churn=1 THEN 1 ELSE 0 END) * 100.0 / COUNT(*),2) AS churn_percentage\r\n",
                "FROM data\r\n",
                "GROUP BY  products_number\r\n",
                "ORDER BY TOTAl_CUSTOMERS DESC\r\n",
                "'''\r\n",
                "Churn_product_df = pd.read_sql(q3,engine)\r\n",
                "Churn_product_df"
            ],
            "metadata": {
                "language": "python",
                "azdata_cell_guid": "904524ff-5b21-4287-9fe8-51feae9329a6"
            },
            "outputs": [
                {
                    "data": {
                        "text/plain": "   products_number  total_customers  churned_customers  churn_percentage\n0                1             5084               1409             27.71\n1                2             4590                348              7.58\n2                3              266                220             82.71\n3                4               60                 60            100.00",
                        "text/html": "<div>\n<style scoped>\n    .dataframe tbody tr th:only-of-type {\n        vertical-align: middle;\n    }\n\n    .dataframe tbody tr th {\n        vertical-align: top;\n    }\n\n    .dataframe thead th {\n        text-align: right;\n    }\n</style>\n<table border=\"1\" class=\"dataframe\">\n  <thead>\n    <tr style=\"text-align: right;\">\n      <th></th>\n      <th>products_number</th>\n      <th>total_customers</th>\n      <th>churned_customers</th>\n      <th>churn_percentage</th>\n    </tr>\n  </thead>\n  <tbody>\n    <tr>\n      <th>0</th>\n      <td>1</td>\n      <td>5084</td>\n      <td>1409</td>\n      <td>27.71</td>\n    </tr>\n    <tr>\n      <th>1</th>\n      <td>2</td>\n      <td>4590</td>\n      <td>348</td>\n      <td>7.58</td>\n    </tr>\n    <tr>\n      <th>2</th>\n      <td>3</td>\n      <td>266</td>\n      <td>220</td>\n      <td>82.71</td>\n    </tr>\n    <tr>\n      <th>3</th>\n      <td>4</td>\n      <td>60</td>\n      <td>60</td>\n      <td>100.00</td>\n    </tr>\n  </tbody>\n</table>\n</div>"
                    },
                    "metadata": {},
                    "execution_count": 66,
                    "output_type": "execute_result"
                }
            ],
            "execution_count": 66
        },
        {
            "cell_type": "code",
            "source": [
                "# churn rate by  product\r\n",
                "\r\n",
                "q4 = '''\r\n",
                "SELECT \r\n",
                "tenure,\r\n",
                "COUNT(*) AS total_customers,\r\n",
                "SUM(CASE WHEN churn=1 THEN 1 ELSE 0 END) AS churned_customers,\r\n",
                "ROUND(SUM(CASE WHEN churn=1 THEN 1 ELSE 0 END) * 100.0 / COUNT(*),2) AS churn_percentage\r\n",
                "FROM data\r\n",
                "GROUP BY tenure\r\n",
                "ORDER BY churn_percentage DESC\r\n",
                "\r\n",
                "'''\r\n",
                "Churn_product_df = pd.read_sql(q4,engine)\r\n",
                "Churn_product_df"
            ],
            "metadata": {
                "language": "python",
                "azdata_cell_guid": "95442e42-bbec-47b2-8b20-1ea817557242"
            },
            "outputs": [
                {
                    "data": {
                        "text/plain": "    tenure  total_customers  churned_customers  churn_percentage\n0        0              413                 95             23.00\n1        1             1035                232             22.42\n2        9              984                213             21.65\n3        3             1009                213             21.11\n4        5             1012                209             20.65\n5       10              490                101             20.61\n6        4              989                203             20.53\n7        6              967                196             20.27\n8        8             1025                197             19.22\n9        2             1048                201             19.18\n10       7             1028                177             17.22",
                        "text/html": "<div>\n<style scoped>\n    .dataframe tbody tr th:only-of-type {\n        vertical-align: middle;\n    }\n\n    .dataframe tbody tr th {\n        vertical-align: top;\n    }\n\n    .dataframe thead th {\n        text-align: right;\n    }\n</style>\n<table border=\"1\" class=\"dataframe\">\n  <thead>\n    <tr style=\"text-align: right;\">\n      <th></th>\n      <th>tenure</th>\n      <th>total_customers</th>\n      <th>churned_customers</th>\n      <th>churn_percentage</th>\n    </tr>\n  </thead>\n  <tbody>\n    <tr>\n      <th>0</th>\n      <td>0</td>\n      <td>413</td>\n      <td>95</td>\n      <td>23.00</td>\n    </tr>\n    <tr>\n      <th>1</th>\n      <td>1</td>\n      <td>1035</td>\n      <td>232</td>\n      <td>22.42</td>\n    </tr>\n    <tr>\n      <th>2</th>\n      <td>9</td>\n      <td>984</td>\n      <td>213</td>\n      <td>21.65</td>\n    </tr>\n    <tr>\n      <th>3</th>\n      <td>3</td>\n      <td>1009</td>\n      <td>213</td>\n      <td>21.11</td>\n    </tr>\n    <tr>\n      <th>4</th>\n      <td>5</td>\n      <td>1012</td>\n      <td>209</td>\n      <td>20.65</td>\n    </tr>\n    <tr>\n      <th>5</th>\n      <td>10</td>\n      <td>490</td>\n      <td>101</td>\n      <td>20.61</td>\n    </tr>\n    <tr>\n      <th>6</th>\n      <td>4</td>\n      <td>989</td>\n      <td>203</td>\n      <td>20.53</td>\n    </tr>\n    <tr>\n      <th>7</th>\n      <td>6</td>\n      <td>967</td>\n      <td>196</td>\n      <td>20.27</td>\n    </tr>\n    <tr>\n      <th>8</th>\n      <td>8</td>\n      <td>1025</td>\n      <td>197</td>\n      <td>19.22</td>\n    </tr>\n    <tr>\n      <th>9</th>\n      <td>2</td>\n      <td>1048</td>\n      <td>201</td>\n      <td>19.18</td>\n    </tr>\n    <tr>\n      <th>10</th>\n      <td>7</td>\n      <td>1028</td>\n      <td>177</td>\n      <td>17.22</td>\n    </tr>\n  </tbody>\n</table>\n</div>"
                    },
                    "metadata": {},
                    "execution_count": 70,
                    "output_type": "execute_result"
                }
            ],
            "execution_count": 70
        },
        {
            "cell_type": "code",
            "source": [
                "q5= '''\r\n",
                "SELECT DISTINCT country,\r\n",
                "    (SELECT (SUM(CASE WHEN c2.churn = 1 THEN 1 ELSE 0 END) * 100.0 / COUNT(*)) \r\n",
                "     FROM Data c2 WHERE c2.country = c1.country) AS churn_rate,\r\n",
                "    (SELECT (SUM(CASE WHEN c3.active_member = 1 THEN 1 ELSE 0 END) * 100.0 / COUNT(*)) \r\n",
                "     FROM Data c3 WHERE c3.country = c1.country) AS active_member_percentage\r\n",
                "FROM Data c1\r\n",
                "'''\r\n",
                "Churn_active_df = pd.read_sql(q5,engine)\r\n",
                "Churn_active_df"
            ],
            "metadata": {
                "azdata_cell_guid": "eb3f874b-3a74-4a66-ab5b-e5f36835c928",
                "language": "python",
                "tags": [
                    "hide_input"
                ]
            },
            "outputs": [
                {
                    "data": {
                        "text/plain": "   country  churn_rate  active_member_percentage\n0  Germany   32.443204                 49.740933\n1   France   16.154767                 51.675309\n2    Spain   16.673395                 52.967299",
                        "text/html": "<div>\n<style scoped>\n    .dataframe tbody tr th:only-of-type {\n        vertical-align: middle;\n    }\n\n    .dataframe tbody tr th {\n        vertical-align: top;\n    }\n\n    .dataframe thead th {\n        text-align: right;\n    }\n</style>\n<table border=\"1\" class=\"dataframe\">\n  <thead>\n    <tr style=\"text-align: right;\">\n      <th></th>\n      <th>country</th>\n      <th>churn_rate</th>\n      <th>active_member_percentage</th>\n    </tr>\n  </thead>\n  <tbody>\n    <tr>\n      <th>0</th>\n      <td>Germany</td>\n      <td>32.443204</td>\n      <td>49.740933</td>\n    </tr>\n    <tr>\n      <th>1</th>\n      <td>France</td>\n      <td>16.154767</td>\n      <td>51.675309</td>\n    </tr>\n    <tr>\n      <th>2</th>\n      <td>Spain</td>\n      <td>16.673395</td>\n      <td>52.967299</td>\n    </tr>\n  </tbody>\n</table>\n</div>"
                    },
                    "metadata": {},
                    "execution_count": 73,
                    "output_type": "execute_result"
                }
            ],
            "execution_count": 73
        },
        {
            "cell_type": "code",
            "source": [
                "q6 = '''\r\n",
                "SELECT \r\n",
                "credit_card,\r\n",
                "COUNT(*) AS total_customers,\r\n",
                "SUM(CASE WHEN churn=1 THEN 1 ELSE 0 END) AS churned_customers,\r\n",
                "ROUND(SUM(CASE WHEN churn=1 THEN 1 ELSE 0 END) * 100.0 / COUNT(*),2) AS churn_percentage\r\n",
                "FROM data\r\n",
                "GROUP BY  credit_card\r\n",
                "ORDER BY TOTAl_CUSTOMERS DESC\r\n",
                "'''\r\n",
                "Churn_credit_df = pd.read_sql(q6,engine)\r\n",
                "Churn_credit_df"
            ],
            "metadata": {
                "language": "python",
                "azdata_cell_guid": "9caf193d-d48f-482e-8ca8-6ad0d1f8f94e"
            },
            "outputs": [
                {
                    "data": {
                        "text/plain": "   credit_card  total_customers  churned_customers  churn_percentage\n0         True             7055               1424             20.18\n1        False             2945                613             20.81",
                        "text/html": "<div>\n<style scoped>\n    .dataframe tbody tr th:only-of-type {\n        vertical-align: middle;\n    }\n\n    .dataframe tbody tr th {\n        vertical-align: top;\n    }\n\n    .dataframe thead th {\n        text-align: right;\n    }\n</style>\n<table border=\"1\" class=\"dataframe\">\n  <thead>\n    <tr style=\"text-align: right;\">\n      <th></th>\n      <th>credit_card</th>\n      <th>total_customers</th>\n      <th>churned_customers</th>\n      <th>churn_percentage</th>\n    </tr>\n  </thead>\n  <tbody>\n    <tr>\n      <th>0</th>\n      <td>True</td>\n      <td>7055</td>\n      <td>1424</td>\n      <td>20.18</td>\n    </tr>\n    <tr>\n      <th>1</th>\n      <td>False</td>\n      <td>2945</td>\n      <td>613</td>\n      <td>20.81</td>\n    </tr>\n  </tbody>\n</table>\n</div>"
                    },
                    "metadata": {},
                    "execution_count": 74,
                    "output_type": "execute_result"
                }
            ],
            "execution_count": 74
        },
        {
            "cell_type": "code",
            "source": [
                "## some visualizations\r\n",
                "sns.set(style=\"whitegrid\")\r\n",
                "\r\n",
                "# Create a figure\r\n",
                "fig = plt.figure(figsize=(14, 10))\r\n",
                "gs = gridspec.GridSpec(2, 2, width_ratios=[2, 1])\r\n",
                "\r\n",
                "# First subplot \r\n",
                "ax1 = fig.add_subplot(gs[0, 0])\r\n",
                "countries = Churn_rate_countries_df['country']\r\n",
                "total_customers = Churn_rate_countries_df['churned_customers']\r\n",
                "ax1.pie(total_customers, labels=countries, autopct='%1.1f%%', startangle=90, wedgeprops=dict(width=0.3))\r\n",
                "# Add a white circle at the center to make it a donut\r\n",
                "centre_circle = plt.Circle((0, 0), 0.70, fc='white')\r\n",
                "fig.gca().add_artist(centre_circle)\r\n",
                "# Equal aspect ratio ensures that pie is drawn as a circle.\r\n",
                "ax1.axis('equal')  \r\n",
                "# Title\r\n",
                "plt.title('Total churned Customers by Country')\r\n",
                "\r\n",
                "# second subplot \r\n",
                "ax2 = fig.add_subplot(gs[1, 0])\r\n",
                "countries = Churn_credit_df['Credit_criteria']\r\n",
                "total_customers1 = Churn_credit_df['churned_customers']\r\n",
                "ax2.pie(total_customers1, labels=countries, autopct='%1.1f%%', startangle=90, wedgeprops=dict(width=0.3))\r\n",
                "# Add a white circle at the center to make it a donut\r\n",
                "centre_circle = plt.Circle((0, 0), 0.70, fc='white')\r\n",
                "fig.gca().add_artist(centre_circle)\r\n",
                "# Equal aspect ratio ensures that pie is drawn as a circle.\r\n",
                "ax2.axis('equal')  \r\n",
                "# Title\r\n",
                "plt.title('Total churned Customers by credit')\r\n",
                "\r\n",
                "\r\n",
                "ax3 = fig.add_subplot(gs[:, 1])\r\n",
                "sns.barplot(x=Churn_age_df['Age_Group'], y=Churn_age_df['total_customers'], data=Churn_age_df, ax=ax3, color='b', label='Total Customers', errorbar=None)\r\n",
                "sns.barplot(x=Churn_age_df['Age_Group'], y=Churn_age_df['churned_customers'], data=Churn_age_df, ax=ax3, color='r', label='Churned Customers', errorbar=None)\r\n",
                "ax3.set_xlabel('Age Group')\r\n",
                "ax3.set_ylabel('Number of Customers')\r\n",
                "ax3.set_title('Total Customers and Churned Customers by Age Group')\r\n",
                "ax3.legend(loc='upper left')\r\n",
                "\r\n",
                ""
            ],
            "metadata": {
                "language": "python",
                "azdata_cell_guid": "6494cf74-f0eb-42ea-b153-0af18ebf33c5",
                "tags": []
            },
            "outputs": [
                {
                    "data": {
                        "text/plain": "<Figure size 1008x720 with 3 Axes>",
                        "image/png": "[encoded data removed]"
                    },
                    "metadata": {},
                    "output_type": "display_data"
                },
                {
                    "data": {
                        "text/plain": "<matplotlib.legend.Legend at 0x28b083f5700>"
                    },
                    "metadata": {},
                    "execution_count": 144,
                    "output_type": "execute_result"
                }
            ],
            "execution_count": 144
        }
    ]
}