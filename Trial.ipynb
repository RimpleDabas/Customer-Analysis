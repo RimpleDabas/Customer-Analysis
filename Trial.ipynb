{
    "metadata": {
        "kernelspec": {
            "name": "python3",
            "display_name": "Python 3",
            "language": "python"
        },
        "language_info": {
            "name": "python",
            "version": "3.8.10",
            "mimetype": "text/x-python",
            "codemirror_mode": {
                "name": "ipython",
                "version": 3
            },
            "pygments_lexer": "ipython3",
            "nbconvert_exporter": "python",
            "file_extension": ".py"
        }
    },
    "nbformat_minor": 2,
    "nbformat": 4,
    "cells": [
        {
            "cell_type": "code",
            "source": [
                "import pandas as pd\n",
                "import sqlalchemy \n",
                "from sqlalchemy.ext.automap import automap_base\n",
                "from sqlalchemy.orm import Session\n",
                "from sqlalchemy import create_engine, func ,inspect\n",
                "import pyodbc"
            ],
            "metadata": {
                "azdata_cell_guid": "41a3607f-8ba7-4593-81d8-3081912baf2b",
                "language": "python",
                "tags": []
            },
            "outputs": [],
            "execution_count": 71
        },
        {
            "cell_type": "code",
            "source": [
                "# Using sqlalchemy\r\n",
                "server = 'DABAS\\SQLEXPRESS'\r\n",
                "database = 'ChurnDataset'\r\n",
                "driver = 'SQL Server'\r\n",
                "connection = f\"mssql://@{server}/{database}?driver={'SQL Server'}\"\r\n",
                "engine = create_engine(connection)\r\n",
                "connect = engine.connect()"
            ],
            "metadata": {
                "language": "python",
                "azdata_cell_guid": "5b527439-74e0-4153-b92e-3cce670bc0cf"
            },
            "outputs": [],
            "execution_count": 83
        },
        {
            "cell_type": "code",
            "source": [
                "#using pyodbc\r\n",
                "connection = pyodbc.connect('Trusted_Connection=yes', \r\n",
                "                     driver = '{ODBC Driver 17 for SQL Server}',\r\n",
                "                     server = 'DABAS\\SQLEXPRESS', \r\n",
                "                     database = 'ChurnDataset')\r\n",
                ""
            ],
            "metadata": {
                "azdata_cell_guid": "3b0bd6be-5c92-4d50-8ac0-f06a7605d2bd",
                "language": "python"
            },
            "outputs": [],
            "execution_count": 85
        },
        {
            "cell_type": "code",
            "source": [
                "cur = con.cursor()\r\n",
                "\r\n",
                "cur.execute(\r\n",
                "    \"SELECT * FROM first\"\r\n",
                ")\r\n",
                "column_names = [desc[0] for desc in cur.description]\r\n",
                "print(column_names)"
            ],
            "metadata": {
                "language": "python",
                "azdata_cell_guid": "85a0cd2f-d501-4812-bd89-841350c0dfb6"
            },
            "outputs": [],
            "execution_count": null
        },
        {
            "cell_type": "code",
            "source": [
                "query= \"SELECT * FROM Data\"\r\n",
                "cursor = connection.cursor()\r\n",
                "cursor.execute(query)\r\n",
                "column_names = [desc[0] for desc in cursor.description]\r\n",
                "print(column_names)\r\n",
                ""
            ],
            "metadata": {
                "language": "python",
                "azdata_cell_guid": "28148064-5e14-4d56-8b28-b3375bbcd29b"
            },
            "outputs": [
                {
                    "name": "stdout",
                    "text": "['customer_id', 'credit_score', 'country', 'gender', 'age', 'tenure', 'balance', 'products_number', 'credit_card', 'active_member', 'estimated_salary', 'churn']\n",
                    "output_type": "stream"
                }
            ],
            "execution_count": 86
        },
        {
            "cell_type": "code",
            "source": [
                "query2 = '''SELECT\r\n",
                "COUNT(DISTINCT customer_id) AS customer_count\r\n",
                "FROM\r\n",
                "data''';\r\n",
                "cursor = connection.cursor()\r\n",
                "cursor.execute(query2)\r\n",
                "a= cursor.fetchall()\r\n",
                "print(a[0])"
            ],
            "metadata": {
                "azdata_cell_guid": "ab0caf1e-5078-4af2-9b39-51eb7f589ae5",
                "language": "python"
            },
            "outputs": [
                {
                    "name": "stdout",
                    "text": "(10000,)\n",
                    "output_type": "stream"
                }
            ],
            "execution_count": 78
        },
        {
            "cell_type": "code",
            "source": [
                "\r\n",
                "inspector = inspect(engine)\r\n",
                "columns = inspector.get_columns('Data')\r\n",
                "for c in columns:\r\n",
                "    print(c['name'], c[\"type\"])"
            ],
            "metadata": {
                "language": "python",
                "azdata_cell_guid": "aae6645a-b982-4ee2-b6a8-5bd5fb4e447d"
            },
            "outputs": [
                {
                    "name": "stdout",
                    "text": "customer_id INTEGER\ncredit_score SMALLINT\ncountry NVARCHAR(50) COLLATE \"SQL_Latin1_General_CP1_CI_AS\"\ngender NVARCHAR(50) COLLATE \"SQL_Latin1_General_CP1_CI_AS\"\nage TINYINT\ntenure TINYINT\nbalance FLOAT\nproducts_number TINYINT\ncredit_card BIT\nactive_member BIT\nestimated_salary FLOAT\nchurn BIT\n",
                    "output_type": "stream"
                }
            ],
            "execution_count": 76
        }
    ]
}